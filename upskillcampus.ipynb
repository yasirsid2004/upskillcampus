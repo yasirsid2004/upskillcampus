{
  "cells": [
    {
      "cell_type": "markdown",
      "metadata": {
        "id": "view-in-github",
        "colab_type": "text"
      },
      "source": [
        "<a href=\"https://colab.research.google.com/github/yasirsid2004/upskillcampus/blob/main/upskillcampus.ipynb\" target=\"_parent\"><img src=\"https://colab.research.google.com/assets/colab-badge.svg\" alt=\"Open In Colab\"/></a>"
      ]
    },
    {
      "cell_type": "code",
      "source": [
        "import pandas as pd\n",
        "from sklearn.model_selection import train_test_split\n",
        "from sklearn.ensemble import RandomForestRegressor\n",
        "from sklearn.metrics import mean_absolute_error, r2_score\n",
        "from sklearn.preprocessing import LabelEncoder\n",
        "import os\n",
        "\n",
        "print(\"--- Libraries imported successfully! ---\")"
      ],
      "metadata": {
        "colab": {
          "base_uri": "https://localhost:8080/"
        },
        "id": "rlfwzBNd-vK-",
        "outputId": "1c4fce6b-9c1c-4200-f12f-bf482278e890"
      },
      "execution_count": null,
      "outputs": [
        {
          "output_type": "stream",
          "name": "stdout",
          "text": [
            "--- Libraries imported successfully! ---\n"
          ]
        }
      ]
    },
    {
      "cell_type": "code",
      "source": [
        "try:\n",
        "    # Load the dataset with cost and yield information\n",
        "    df_cost = pd.read_csv('/content/datafile (1).csv')\n",
        "    print(\"Successfully loaded datafile (1).csv\")\n",
        "\n",
        "    # Load the dataset with variety and zone information\n",
        "    df_variety = pd.read_csv('/content/datafile (3).csv')\n",
        "    print(\"Successfully loaded datafile (3).csv\")\n",
        "\n",
        "    # --- Step 1: Clean the first dataset (df_cost) ---\n",
        "    df_cost.columns = df_cost.columns.str.strip().str.lower()\n",
        "    df_cost = df_cost.rename(columns={\n",
        "        'cost of cultivation (`/hectare) a2+fl': 'cost_cultivation_a2fl',\n",
        "        'cost of cultivation (`/hectare) c2': 'cost_cultivation_c2',\n",
        "        'cost of production (`/quintal) c2': 'cost_production_c2',\n",
        "        'yield (quintal/ hectare)': 'yield' # This will be our target to predict\n",
        "    })\n",
        "    print(\"\\nCleaned column names for datafile (1).csv\")\n",
        "\n",
        "    # --- Step 2: Clean the second dataset (df_variety) ---\n",
        "    df_variety.columns = df_variety.columns.str.strip().str.lower()\n",
        "    if '' in df_variety.columns: # Remove the empty column if it exists\n",
        "        df_variety = df_variety.drop(columns=[''])\n",
        "    # Keep only the first entry for each crop to avoid creating messy duplicates\n",
        "    df_variety = df_variety.drop_duplicates(subset=['crop'], keep='first')\n",
        "    print(\"Cleaned column names for datafile (3).csv\")\n",
        "\n",
        "    # --- Step 3: Merge the two datasets ---\n",
        "    # We combine the two tables using the 'crop' column as the common link.\n",
        "    df = pd.merge(df_cost, df_variety, on='crop', how='left')\n",
        "    print(\"\\n--- Successfully merged the two datasets! ---\")\n",
        "\n",
        "except FileNotFoundError as e:\n",
        "    print(f\"\\nError: A file was not found. Please make sure both 'datafile (1).csv' and 'datafile (3).csv' are uploaded to the main '/content/' directory.\")\n",
        "    print(f\"Missing file: {e.filename}\")\n",
        "    exit()\n",
        "except Exception as e:\n",
        "    print(f\"\\nAn error occurred: {e}\")\n",
        "    exit()"
      ],
      "metadata": {
        "colab": {
          "base_uri": "https://localhost:8080/"
        },
        "id": "qldzFyUX-zce",
        "outputId": "ce09af8e-73a5-44f0-9e21-6de7fa21f679"
      },
      "execution_count": null,
      "outputs": [
        {
          "output_type": "stream",
          "name": "stdout",
          "text": [
            "Successfully loaded datafile (1).csv\n",
            "Successfully loaded datafile (3).csv\n",
            "\n",
            "Cleaned column names for datafile (1).csv\n",
            "Cleaned column names for datafile (3).csv\n",
            "\n",
            "--- Successfully merged the two datasets! ---\n"
          ]
        }
      ]
    },
    {
      "cell_type": "code",
      "source": [
        "print(\"\\n--- First 5 rows of the new merged dataset ---\")\n",
        "print(df.head())\n",
        "\n",
        "print(\"\\n--- Basic Information about the dataset ---\")\n",
        "df.info()\n",
        "\n",
        "print(\"\\n--- Checking for Missing (empty) Values ---\")\n",
        "print(df.isnull().sum())"
      ],
      "metadata": {
        "colab": {
          "base_uri": "https://localhost:8080/"
        },
        "id": "GUrS8iXl_dLj",
        "outputId": "a32d768f-6778-443f-8378-baa8ac7326aa"
      },
      "execution_count": null,
      "outputs": [
        {
          "output_type": "stream",
          "name": "stdout",
          "text": [
            "\n",
            "--- First 5 rows of the new merged dataset ---\n",
            "    crop           state  cost_cultivation_a2fl  cost_cultivation_c2  \\\n",
            "0  ARHAR   Uttar Pradesh                9794.05             23076.74   \n",
            "1  ARHAR       Karnataka               10593.15             16528.68   \n",
            "2  ARHAR         Gujarat               13468.82             19551.90   \n",
            "3  ARHAR  Andhra Pradesh               17051.66             24171.65   \n",
            "4  ARHAR     Maharashtra               17130.55             25270.26   \n",
            "\n",
            "   cost_production_c2  yield variety season/ duration in days  \\\n",
            "0             1941.55   9.83     NaN                      NaN   \n",
            "1             2172.46   7.47     NaN                      NaN   \n",
            "2             1898.30   9.59     NaN                      NaN   \n",
            "3             3670.54   6.42     NaN                      NaN   \n",
            "4             2775.80   8.72     NaN                      NaN   \n",
            "\n",
            "  recommended zone  unnamed: 4  \n",
            "0              NaN         NaN  \n",
            "1              NaN         NaN  \n",
            "2              NaN         NaN  \n",
            "3              NaN         NaN  \n",
            "4              NaN         NaN  \n",
            "\n",
            "--- Basic Information about the dataset ---\n",
            "<class 'pandas.core.frame.DataFrame'>\n",
            "RangeIndex: 49 entries, 0 to 48\n",
            "Data columns (total 10 columns):\n",
            " #   Column                    Non-Null Count  Dtype  \n",
            "---  ------                    --------------  -----  \n",
            " 0   crop                      49 non-null     object \n",
            " 1   state                     49 non-null     object \n",
            " 2   cost_cultivation_a2fl     49 non-null     float64\n",
            " 3   cost_cultivation_c2       49 non-null     float64\n",
            " 4   cost_production_c2        49 non-null     float64\n",
            " 5   yield                     49 non-null     float64\n",
            " 6   variety                   0 non-null      object \n",
            " 7   season/ duration in days  0 non-null      object \n",
            " 8   recommended zone          0 non-null      object \n",
            " 9   unnamed: 4                0 non-null      float64\n",
            "dtypes: float64(5), object(5)\n",
            "memory usage: 4.0+ KB\n",
            "\n",
            "--- Checking for Missing (empty) Values ---\n",
            "crop                         0\n",
            "state                        0\n",
            "cost_cultivation_a2fl        0\n",
            "cost_cultivation_c2          0\n",
            "cost_production_c2           0\n",
            "yield                        0\n",
            "variety                     49\n",
            "season/ duration in days    49\n",
            "recommended zone            49\n",
            "unnamed: 4                  49\n",
            "dtype: int64\n"
          ]
        }
      ]
    },
    {
      "cell_type": "code",
      "source": [
        "print(\"\\n--- Preparing data for modeling... ---\")\n",
        "\n",
        "# --- FIX: Remove duplicate columns ---\n",
        "# This error can happen if the merged file has duplicate column names\n",
        "# (e.g., 'crop' and 'crop'). This line keeps only the first occurrence of each.\n",
        "original_col_count = len(df.columns)\n",
        "df = df.loc[:,~df.columns.duplicated(keep='first')]\n",
        "new_col_count = len(df.columns)\n",
        "\n",
        "if original_col_count != new_col_count:\n",
        "    print(f\"Removed {original_col_count - new_col_count} duplicate columns.\")\n",
        "print(\"Current columns:\", df.columns.tolist())\n",
        "# --- End of Fix ---\n",
        "\n",
        "\n",
        "# Step 1: Fill missing values (Robust Loop)\n",
        "# This new loop is safer. It iterates through the unique column names\n",
        "# and uses a different check for data type that won't fail if\n",
        "# duplicates somehow still exist.\n",
        "print(\"Filling missing values...\")\n",
        "for col_name in df.columns:\n",
        "    if pd.api.types.is_object_dtype(df[col_name]):\n",
        "        # For text columns, check if mode() is empty (all NaN)\n",
        "        if not df[col_name].mode().empty:\n",
        "            # Fill with the most common value\n",
        "            df[col_name] = df[col_name].fillna(df[col_name].mode()[0])\n",
        "        else:\n",
        "            # If all values were NaN, fill with a placeholder\n",
        "            df[col_name] = df[col_name].fillna(\"Unknown\")\n",
        "    else:\n",
        "        # For number columns, fill with the median\n",
        "        df[col_name] = df[col_name].fillna(df[col_name].median())\n",
        "print(\"Missing values have been filled.\")\n",
        "\n",
        "\n",
        "# Step 2: Convert text columns to numbers using Label Encoding\n",
        "print(\"Converting text columns to numbers...\")\n",
        "categorical_cols = df.select_dtypes(include=['object']).columns\n",
        "label_encoders = {}\n",
        "for col in categorical_cols:\n",
        "    le = LabelEncoder()\n",
        "    df[col] = le.fit_transform(df[col])\n",
        "    label_encoders[col] = le\n",
        "print(\"Text columns have been converted to numbers.\")\n",
        "\n",
        "print(\"\\n--- Data after cleaning and encoding ---\")\n",
        "print(df.head())\n"
      ],
      "metadata": {
        "colab": {
          "base_uri": "https://localhost:8080/"
        },
        "id": "a1GY-oE4Btg5",
        "outputId": "c6c2636c-5298-4977-ba0b-c88a144111d4"
      },
      "execution_count": null,
      "outputs": [
        {
          "output_type": "stream",
          "name": "stdout",
          "text": [
            "\n",
            "--- Preparing data for modeling... ---\n",
            "Current columns: ['crop', 'state', 'cost_cultivation_a2fl', 'cost_cultivation_c2', 'cost_production_c2', 'yield', 'variety', 'season/ duration in days', 'recommended zone', 'unnamed: 4']\n",
            "Filling missing values...\n",
            "Missing values have been filled.\n",
            "Converting text columns to numbers...\n",
            "Text columns have been converted to numbers.\n",
            "\n",
            "--- Data after cleaning and encoding ---\n",
            "   crop  state  cost_cultivation_a2fl  cost_cultivation_c2  \\\n",
            "0     0     11                9794.05             23076.74   \n",
            "1     0      4               10593.15             16528.68   \n",
            "2     0      2               13468.82             19551.90   \n",
            "3     0      0               17051.66             24171.65   \n",
            "4     0      6               17130.55             25270.26   \n",
            "\n",
            "   cost_production_c2  yield  variety  season/ duration in days  \\\n",
            "0             1941.55   9.83        0                         0   \n",
            "1             2172.46   7.47        0                         0   \n",
            "2             1898.30   9.59        0                         0   \n",
            "3             3670.54   6.42        0                         0   \n",
            "4             2775.80   8.72        0                         0   \n",
            "\n",
            "   recommended zone  unnamed: 4  \n",
            "0                 0         NaN  \n",
            "1                 0         NaN  \n",
            "2                 0         NaN  \n",
            "3                 0         NaN  \n",
            "4                 0         NaN  \n"
          ]
        }
      ]
    },
    {
      "cell_type": "code",
      "source": [
        "features = ['crop', 'state', 'cost_cultivation_c2', 'variety', 'season/ duration in days', 'recommended zone']\n",
        "target = 'yield'\n",
        "\n",
        "try:\n",
        "    X = df[features]\n",
        "    y = df[target]\n",
        "\n",
        "    X_train, X_test, y_train, y_test = train_test_split(X, y, test_size=0.2, random_state=42)\n",
        "\n",
        "    print(f\"\\nData has been split successfully:\")\n",
        "    print(f\"- Training set has {X_train.shape[0]} samples.\")\n",
        "    print(f\"- Testing set has {X_test.shape[0]} samples.\")\n",
        "\n",
        "except KeyError as e:\n",
        "    print(f\"\\nError selecting features: {e}\")\n",
        "    print(\"This means a column name in the 'features' list is incorrect. Please double-check the column names printed in Cell 3.\")\n",
        "    exit()\n"
      ],
      "metadata": {
        "colab": {
          "base_uri": "https://localhost:8080/"
        },
        "id": "jtL5HSQKB6Gh",
        "outputId": "720b2afb-a730-4f31-c24d-b7a17da4a274"
      },
      "execution_count": null,
      "outputs": [
        {
          "output_type": "stream",
          "name": "stdout",
          "text": [
            "\n",
            "Data has been split successfully:\n",
            "- Training set has 39 samples.\n",
            "- Testing set has 10 samples.\n"
          ]
        }
      ]
    },
    {
      "cell_type": "code",
      "source": [
        "print(\"\\n--- Training the prediction model... ---\")\n",
        "model = RandomForestRegressor(n_estimators=100, random_state=42, n_jobs=-1)\n",
        "model.fit(X_train, y_train)\n",
        "print(\"Model training is complete!\")\n"
      ],
      "metadata": {
        "colab": {
          "base_uri": "https://localhost:8080/"
        },
        "id": "_aUZ8ySVB-si",
        "outputId": "5419eb9e-22c0-4597-c147-704bf6749876"
      },
      "execution_count": null,
      "outputs": [
        {
          "output_type": "stream",
          "name": "stdout",
          "text": [
            "\n",
            "--- Training the prediction model... ---\n",
            "Model training is complete!\n"
          ]
        }
      ]
    },
    {
      "cell_type": "code",
      "source": [
        "print(\"\\n--- Evaluating the model's performance ---\")\n",
        "y_pred = model.predict(X_test)\n",
        "mae = mean_absolute_error(y_test, y_pred)\n",
        "r2 = r2_score(y_test, y_pred)\n",
        "\n",
        "print(f\"Mean Absolute Error (MAE): {mae:.2f}\")\n",
        "print(f\"R-squared (R²) Score: {r2:.2f}\")\n",
        "\n",
        "importance_df = pd.DataFrame({\n",
        "    'Feature': features,\n",
        "    'Importance': model.feature_importances_\n",
        "}).sort_values(by='Importance', ascending=False)\n",
        "\n",
        "print(\"\\n--- Most Important Features for Prediction ---\")\n",
        "print(importance_df)"
      ],
      "metadata": {
        "colab": {
          "base_uri": "https://localhost:8080/"
        },
        "id": "JHBxOtwzCEOb",
        "outputId": "a3a35b7e-3e25-4361-ebfa-6672ad7721fb"
      },
      "execution_count": null,
      "outputs": [
        {
          "output_type": "stream",
          "name": "stdout",
          "text": [
            "\n",
            "--- Evaluating the model's performance ---\n",
            "Mean Absolute Error (MAE): 36.23\n",
            "R-squared (R²) Score: 0.96\n",
            "\n",
            "--- Most Important Features for Prediction ---\n",
            "                    Feature  Importance\n",
            "2       cost_cultivation_c2    0.837139\n",
            "0                      crop    0.137239\n",
            "1                     state    0.025622\n",
            "3                   variety    0.000000\n",
            "4  season/ duration in days    0.000000\n",
            "5          recommended zone    0.000000\n"
          ]
        }
      ]
    }
  ],
  "metadata": {
    "colab": {
      "provenance": [],
      "authorship_tag": "ABX9TyNUUwWWJ9gUvRfctd7k2b7h",
      "include_colab_link": true
    },
    "kernelspec": {
      "display_name": "Python 3",
      "name": "python3"
    },
    "language_info": {
      "name": "python"
    }
  },
  "nbformat": 4,
  "nbformat_minor": 0
}